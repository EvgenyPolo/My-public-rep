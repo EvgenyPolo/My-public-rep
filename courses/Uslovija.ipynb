{
 "cells": [
  {
   "cell_type": "markdown",
   "id": "78bcfd03-9bdb-4003-a81b-27e641ae66a4",
   "metadata": {
    "tags": []
   },
   "source": [
    "mx = 0\n",
    "s = 0\n",
    "    x = int(input())\n",
    "    if x < 0:\n",
    "         s = x\n",
    "         \n",
    "b = 7\n",
    "b /= b\n",
    "\n",
    "if x > mx\n",
    "    mx = x\n",
    "    \n",
    "print(s)\n",
    "print(mx)\n"
   ]
  },
  {
   "cell_type": "code",
   "execution_count": 9,
   "id": "2e635b15-80cc-4e22-bf86-19f6d3b2410f",
   "metadata": {
    "tags": []
   },
   "outputs": [
    {
     "name": "stdout",
     "output_type": "stream",
     "text": [
      "Брать зонт\n",
      "Надеть дождевик\n"
     ]
    }
   ],
   "source": [
    "is_rainy = True  # дождь будет\n",
    "\n",
    "if is_rainy:\n",
    "    print(\"Брать зонт\")\n",
    "else:\n",
    "    print(\"Не брать зонт\")\n",
    "\n",
    "\n",
    "is_rainy = True  # дождь будет\n",
    "heavy_rain = False  # не сильный дождь\n",
    "\n",
    "if is_rainy:\n",
    "    # в данный блок дописали ещё один условный оператор\n",
    "    if heavy_rain:\n",
    "        print(\"Брать зонт\")\n",
    "    else:\n",
    "        print(\"Надеть дождевик\")\n",
    "else:\n",
    "    print(\"Не брать зонт\")\n",
    "    \n",
    "    \n"
   ]
  },
  {
   "cell_type": "code",
   "execution_count": 10,
   "id": "7da3bf1d-1bdf-4fb9-a182-f294e3eafb7c",
   "metadata": {
    "tags": []
   },
   "outputs": [
    {
     "name": "stdout",
     "output_type": "stream",
     "text": [
      "False\n",
      "True\n",
      "False\n",
      "True\n",
      "False\n",
      "True\n"
     ]
    }
   ],
   "source": [
    "print(bool(0))  # False\n",
    "print(bool(1))  # True\n",
    "\n",
    "print(bool(\"\")) # False\n",
    "print(bool(\"1\"))  # True\n",
    "\n",
    "print(bool([])) # False\n",
    "print(bool([1]))  # True\n"
   ]
  },
  {
   "cell_type": "code",
   "execution_count": 13,
   "id": "efb4d270-377d-4399-af36-fa443184ac9a",
   "metadata": {},
   "outputs": [
    {
     "name": "stdout",
     "output_type": "stream",
     "text": [
      "Делить на ноль нельзя\n",
      "Делить на ноль нельзя\n"
     ]
    }
   ],
   "source": [
    "zero = 0\n",
    "# Плохо\n",
    "if zero != 0:\n",
    "   print(10 / zero)\n",
    "else:\n",
    "   print(\"Делить на ноль нельзя\")\n",
    "\n",
    "# Хорошо\n",
    "if zero:\n",
    "   print(10 / zero)\n",
    "else:\n",
    "   print(\"Делить на ноль нельзя\")\n"
   ]
  },
  {
   "cell_type": "code",
   "execution_count": 16,
   "id": "63fd7c63-0f57-4009-b837-57f41ead2448",
   "metadata": {},
   "outputs": [
    {
     "name": "stdout",
     "output_type": "stream",
     "text": [
      "Вы забыли ввести пароль\n",
      "Вы забыли ввести пароль\n",
      "Вы забыли ввести пароль\n"
     ]
    }
   ],
   "source": [
    "password = \"\"\n",
    "# Плохо\n",
    "if password == \"\":\n",
    "   print(\"Вы забыли ввести пароль\")\n",
    "\n",
    "\n",
    "# Очень плохо\n",
    "if len(password) == 0:\n",
    "   print(\"Вы забыли ввести пароль\")\n",
    "\n",
    "\n",
    "# Хорошо\n",
    "if not password:\n",
    "   print(\"Вы забыли ввести пароль\")\n",
    "\n"
   ]
  },
  {
   "cell_type": "code",
   "execution_count": 21,
   "id": "170687d6-9390-47fe-bec8-686a6dac63d5",
   "metadata": {},
   "outputs": [
    {
     "name": "stdout",
     "output_type": "stream",
     "text": [
      "Перед исключением\n"
     ]
    },
    {
     "name": "stdin",
     "output_type": "stream",
     "text": [
      "a:  10\n",
      "b:  0\n"
     ]
    },
    {
     "name": "stdout",
     "output_type": "stream",
     "text": [
      "division by zero\n",
      "После исключения\n",
      "После После исключения\n"
     ]
    }
   ],
   "source": [
    "try: # Добавляем конструкцию try-except для отлова нашей ошибки\n",
    "    print(\"Перед исключением\")\n",
    "    # теперь пользователь сам вводит числа для деления\n",
    "    a = int(input(\"a: \"))\n",
    "    b = int(input(\"b: \"))\n",
    "    c = a / b # здесь может возникнуть исключение деления на ноль\n",
    "    print(c) # печатаем c = a / b если всё хорошо\n",
    "except ZeroDivisionError as e: # Добавляем тип именно той ошибки которую хотим отловить.     \n",
    "    print(e) # Выводим информацию об ошибке\n",
    "    print(\"После исключения\")\n",
    " \n",
    "print(\"После После исключения\")\n"
   ]
  },
  {
   "cell_type": "code",
   "execution_count": 22,
   "id": "ec049169-4fdb-4236-9fea-9ebfb88d7af3",
   "metadata": {},
   "outputs": [
    {
     "ename": "SyntaxError",
     "evalue": "invalid syntax (3506810343.py, line 2)",
     "output_type": "error",
     "traceback": [
      "\u001b[1;36m  Input \u001b[1;32mIn [22]\u001b[1;36m\u001b[0m\n\u001b[1;33m    *ваш код*\u001b[0m\n\u001b[1;37m         ^\u001b[0m\n\u001b[1;31mSyntaxError\u001b[0m\u001b[1;31m:\u001b[0m invalid syntax\n"
     ]
    }
   ],
   "source": [
    "try:\n",
    "    *ваш код*\n",
    "except Ошибка:\n",
    "    *Код отлова*\n",
    "else:\n",
    "    *Код, который выполнится, если всё хорошо прошло в блоке try*\n",
    "finally:\n",
    "    *Код, который выполнится в любом случае*\n",
    "ВАЖНО!  Обратите внимание на отступы! Код внутри конструкции сдвинут на второй уровень вложенности.\n"
   ]
  },
  {
   "cell_type": "code",
   "execution_count": 26,
   "id": "5bb3dc09-c444-4926-b506-5472974a9019",
   "metadata": {},
   "outputs": [
    {
     "name": "stdout",
     "output_type": "stream",
     "text": [
      "Перед исключением\n"
     ]
    },
    {
     "name": "stdin",
     "output_type": "stream",
     "text": [
      "a:  20\n",
      "b:  5\n"
     ]
    },
    {
     "name": "stdout",
     "output_type": "stream",
     "text": [
      "4.0\n",
      "Всё ништяк\n",
      "Finally на месте\n",
      "После После исключения\n"
     ]
    }
   ],
   "source": [
    "try:\n",
    "    print(\"Перед исключением\")\n",
    "    a = int(input(\"a: \"))\n",
    "    b = int(input(\"b: \"))\n",
    "    c = a / b\n",
    "    print(c) # печатаем c = a / b, если всё хорошо\n",
    "except ZeroDivisionError as e:\n",
    "    print(\"После исключения\", e)\n",
    "else: # код в блоке else выполняется только в том случае, если код в блоке try выполнился успешно (т.е. не вылетело никакого исключения).\n",
    "    print(\"Всё ништяк\")\n",
    "finally: # код в блоке finally выполнится в любом случае при выходе из try-except\n",
    "    print(\"Finally на месте\")\n",
    " \n",
    "print(\"После После исключения\")\n"
   ]
  },
  {
   "cell_type": "code",
   "execution_count": 27,
   "id": "a10f2566-c505-45a9-a8ab-384afe12d0ec",
   "metadata": {},
   "outputs": [
    {
     "name": "stdin",
     "output_type": "stream",
     "text": [
      "How old are you? 125\n"
     ]
    },
    {
     "ename": "ValueError",
     "evalue": "Тебе не может быть столько лет",
     "output_type": "error",
     "traceback": [
      "\u001b[1;31m---------------------------------------------------------------------------\u001b[0m",
      "\u001b[1;31mValueError\u001b[0m                                Traceback (most recent call last)",
      "Input \u001b[1;32mIn [27]\u001b[0m, in \u001b[0;36m<module>\u001b[1;34m\u001b[0m\n\u001b[0;32m      1\u001b[0m age \u001b[38;5;241m=\u001b[39m \u001b[38;5;28mint\u001b[39m(\u001b[38;5;28minput\u001b[39m(\u001b[38;5;124m\"\u001b[39m\u001b[38;5;124mHow old are you?\u001b[39m\u001b[38;5;124m\"\u001b[39m))\n\u001b[0;32m      3\u001b[0m \u001b[38;5;28;01mif\u001b[39;00m age \u001b[38;5;241m>\u001b[39m \u001b[38;5;241m100\u001b[39m \u001b[38;5;129;01mor\u001b[39;00m age \u001b[38;5;241m<\u001b[39m\u001b[38;5;241m=\u001b[39m \u001b[38;5;241m0\u001b[39m:\n\u001b[1;32m----> 4\u001b[0m     \u001b[38;5;28;01mraise\u001b[39;00m \u001b[38;5;167;01mValueError\u001b[39;00m(\u001b[38;5;124m\"\u001b[39m\u001b[38;5;124mТебе не может быть столько лет\u001b[39m\u001b[38;5;124m\"\u001b[39m)\n\u001b[0;32m      6\u001b[0m \u001b[38;5;28mprint\u001b[39m(\u001b[38;5;124mf\u001b[39m\u001b[38;5;124m\"\u001b[39m\u001b[38;5;124mТебе \u001b[39m\u001b[38;5;132;01m{\u001b[39;00mage\u001b[38;5;132;01m}\u001b[39;00m\u001b[38;5;124m лет!\u001b[39m\u001b[38;5;124m\"\u001b[39m)\n",
      "\u001b[1;31mValueError\u001b[0m: Тебе не может быть столько лет"
     ]
    }
   ],
   "source": [
    "age = int(input(\"How old are you?\"))\n",
    " \n",
    "if age > 100 or age <= 0:\n",
    "    raise ValueError(\"Тебе не может быть столько лет\")\n",
    " \n",
    "print(f\"Тебе {age} лет!\") # Возраст выводится только в случае, если пользователь ввёл правильный возраст.\n"
   ]
  },
  {
   "cell_type": "code",
   "execution_count": 44,
   "id": "978088d6-6e47-408b-b8f0-3288ff31dd63",
   "metadata": {},
   "outputs": [
    {
     "name": "stdin",
     "output_type": "stream",
     "text": [
      "How old are you? 101\n"
     ]
    },
    {
     "name": "stdout",
     "output_type": "stream",
     "text": [
      "Тебе не может быть столько лет\n",
      "Неправильный возраст\n"
     ]
    }
   ],
   "source": [
    "try:\n",
    "    age = int(input(\"How old are you?\"))\n",
    "    if age > 100 or age <= 0:\n",
    "        raise ValueError(\"Тебе не может быть столько лет\")\n",
    "except ValueError as error:\n",
    "    print(error)\n",
    "    print(\"Неправильный возраст\")\n",
    "else:\n",
    "    print(f\"You are {age} years old!\") # Возраст выводится только в случае, если пользователь ввёл правильный возраст.\n"
   ]
  },
  {
   "cell_type": "code",
   "execution_count": 30,
   "id": "4109574d-de23-4529-9f5f-cf2775bdfb34",
   "metadata": {},
   "outputs": [
    {
     "ename": "SyntaxError",
     "evalue": "invalid character '—' (U+2014) (3364627667.py, line 1)",
     "output_type": "error",
     "traceback": [
      "\u001b[1;36m  Input \u001b[1;32mIn [30]\u001b[1;36m\u001b[0m\n\u001b[1;33m    Исключения — это ошибки, которые выбрасываются при неправильной работе программы и останавливают её выполнение, если они не обработаны.\u001b[0m\n\u001b[1;37m               ^\u001b[0m\n\u001b[1;31mSyntaxError\u001b[0m\u001b[1;31m:\u001b[0m invalid character '—' (U+2014)\n"
     ]
    }
   ],
   "source": [
    "Исключения — это ошибки, которые выбрасываются при неправильной работе программы и останавливают её выполнение, если они не обработаны.\n",
    "Конструкция try-except выглядит следующим образом и служит для обработки исключений:\n",
    "\n",
    "try:\n",
    "    *код, который может вызвать ту или иную ошибку*\n",
    "except *ошибка*:\n",
    "    *код, который выполнится в случае возникновения ошибки*\n",
    "else:\n",
    "    *код, который выполнится только в случае если в try ничего не сломалось*\n",
    "finally:\n",
    "    *код, который выполнится в любом случае*\n",
    "Блоки finally и else, являются необязательными, но могут быть использованы для вашего удобства. Код из блока finally выполняется в любом случае, независимо от исхода в блоках try-except. Код из блока else выполняется только в случае успешного выполнения кода в try.\n",
    "Выбрасывать ошибки можно и по своему желанию с помощью конструкции raise *Тип ошибки* (сообщение, которое нужно вывести в консоль).\n"
   ]
  },
  {
   "cell_type": "code",
   "execution_count": 83,
   "id": "38d559b9-12ce-4ea9-96f8-acae6f5df6a5",
   "metadata": {},
   "outputs": [
    {
     "name": "stdin",
     "output_type": "stream",
     "text": [
      "Введите число:\t none\n"
     ]
    },
    {
     "name": "stdout",
     "output_type": "stream",
     "text": [
      "Вы ввели неправильное число\n",
      "Вы ввели 456\n",
      "Выход из программы\n"
     ]
    }
   ],
   "source": [
    "try:\n",
    "    i = int(input('Введите число:\\t'))\n",
    "except ValueError as e:\n",
    "    print('Вы ввели неправильное число')\n",
    "else:\n",
    "    print(f'Вы ввели {i}')\n",
    "finally:\n",
    "    print('Выход из программы')\n"
   ]
  },
  {
   "cell_type": "code",
   "execution_count": 77,
   "id": "9ce46fe4-b5f0-4ca5-a701-d1dd0847040e",
   "metadata": {},
   "outputs": [
    {
     "name": "stdin",
     "output_type": "stream",
     "text": [
      "Введите  целое число: ?:*?(*?)\n"
     ]
    },
    {
     "name": "stdout",
     "output_type": "stream",
     "text": [
      "Вводите числа, когда вас просят ввести число, а не \"?:*?(*?)\" !\n",
      "Выход из программы\n"
     ]
    }
   ],
   "source": [
    "number = input(\"Введите  целое число:\")\n",
    "try:\n",
    "    number = int(number)\n",
    "except:\n",
    "    print(f'Вводите числа, когда вас просят ввести число, а не \"{number}\" !')\n",
    "else:\n",
    "    print(f\"Вы ввели целое число: {number} !\")\n",
    "finally:\n",
    "    print(\"Выход из программы\")\n"
   ]
  },
  {
   "cell_type": "code",
   "execution_count": 94,
   "id": "c3acd510-aa77-46ca-ad3c-92c41b5e12c1",
   "metadata": {},
   "outputs": [
    {
     "name": "stdout",
     "output_type": "stream",
     "text": [
      "1\n"
     ]
    }
   ],
   "source": [
    "def are_both_odd(A, B):\n",
    "    return A % 2 and B % 2\n",
    "\n",
    "A = 451\n",
    "B = 749\n",
    "print(are_both_odd(A, B))"
   ]
  },
  {
   "cell_type": "code",
   "execution_count": 96,
   "id": "44fd7baa-ba4b-4b0b-81ba-001cea3b6303",
   "metadata": {},
   "outputs": [
    {
     "name": "stdout",
     "output_type": "stream",
     "text": [
      "Утро!!!\n",
      "Утро!!!\n"
     ]
    }
   ],
   "source": [
    "hour = 11\n",
    "\n",
    "if hour >= 6 and hour < 12:\n",
    "    print(\"Утро!!!\")\n",
    "\n",
    "if 6 <= hour < 12:\n",
    "    print(\"Утро!!!\")\n"
   ]
  },
  {
   "cell_type": "code",
   "execution_count": 100,
   "id": "b9e1e3a1-d24f-4cc9-beba-6450c9abe1d4",
   "metadata": {},
   "outputs": [
    {
     "name": "stdout",
     "output_type": "stream",
     "text": [
      "Четвертая четверть\n",
      "Четвертая четверть\n"
     ]
    }
   ],
   "source": [
    "x = 5\n",
    "y = -2\n",
    "\n",
    "if x > 0:\n",
    "    if y > 0:               # x > 0, y > 0\n",
    "         print(\"Первая четверть\")\n",
    "    else:                   # x > 0, y < 0\n",
    "         print(\"Четвертая четверть\")\n",
    "else:\n",
    "    if y > 0:               # x < 0, y > 0\n",
    "         print(\"Вторая четверть\")\n",
    "    else:                   # x < 0, y < 0\n",
    "         print(\"Третья четверть\")\n",
    "\n",
    "\n",
    "if x > 0 and y > 0:\n",
    "    print(\"Первая четверть\")\n",
    "if x > 0 and y < 0:\n",
    "    print(\"Четвертая четверть\")\n",
    "if x < 0 and y > 0:\n",
    "    print(\"Вторая четверть\")\n",
    "if x < 0 and y < 0:\n",
    "    print(\"Третья четверть\")\n",
    "\n"
   ]
  },
  {
   "cell_type": "code",
   "execution_count": 102,
   "id": "038ba0aa-921b-4cca-a755-70917ff1a5d4",
   "metadata": {},
   "outputs": [
    {
     "name": "stdout",
     "output_type": "stream",
     "text": [
      "20 a больше 10\n"
     ]
    }
   ],
   "source": [
    "if a == 10:\n",
    "    print('a равно 10')\n",
    "elif a < 10:\n",
    "    print('a меньше 10')\n",
    "else:\n",
    "    print(a, 'a больше 10')\n"
   ]
  },
  {
   "cell_type": "code",
   "execution_count": 104,
   "id": "e4d5c6f3-418f-45ea-b32b-5c2bae0472c8",
   "metadata": {},
   "outputs": [
    {
     "name": "stdin",
     "output_type": "stream",
     "text": [
      "Введите номер месяца:\t 7\n"
     ]
    },
    {
     "name": "stdout",
     "output_type": "stream",
     "text": [
      "Лето\n"
     ]
    }
   ],
   "source": [
    "month = int(input('Введите номер месяца:\\t'))\n",
    "\n",
    "if month in [3, 4, 5]:\n",
    "    print(\"Весна\")\n",
    "elif month in [6, 7, 8]:\n",
    "    print(\"Лето\")\n",
    "elif month in [9, 10, 11]:\n",
    "    print(\"Осень\")\n",
    "elif month in [12, 1, 2]:\n",
    "    print(\"Зима\")\n"
   ]
  },
  {
   "cell_type": "code",
   "execution_count": 155,
   "id": "5c9a9db5-7a89-4191-8f8a-bcf85dd95878",
   "metadata": {},
   "outputs": [
    {
     "name": "stdout",
     "output_type": "stream",
     "text": [
      "hurricane [4] \n",
      "\n",
      "strong [3]\n",
      "weak [1]\n"
     ]
    }
   ],
   "source": [
    "# У вас есть заготовка функции — def get_wind_class(speed):\n",
    "# Вам нужно вместо \"???\" написать цикл, который возвращает из функции класс ветра в зависимости от его характера:\n",
    "# от 1 до 4 м/с - \"weak [1]\"\n",
    "# от 5-10 м/c - \"moderate [2]\"\n",
    "# от 11-18 м/c - \"strong [3]\"\n",
    "# от 19 м/c - \"hurricane [4]\"\n",
    "# В последней строке мы просим программу напечатать результат (в зависимости от цифры в скобках) — \n",
    "def get_wind_class(speed):  # Объявление функции\n",
    "    klass = (\"weak [1]\", \"moderate [2]\", \"strong [3]\", \"hurricane [4]\")\n",
    "    for i in klass:\n",
    "        if speed in [1, 2, 3, 4]:\n",
    "            return \"weak [1]\"\n",
    "        if speed in [5, 6, 7, 8, 9, 10]:\n",
    "            return \"moderate [2]\"\n",
    "        if speed in [11, 12, 13, 14, 15, 16, 17, 18]:\n",
    "            return \"strong [3]\"\n",
    "        if speed >=19:\n",
    "            return \"hurricane [4]\"\n",
    "\n",
    "print(get_wind_class(31), \"\\n\")  # Печатаем результат выполнения\n",
    "\n",
    "\n",
    "def get_wind_class0(speed): #объявление функции\n",
    "    if 1 <= speed <= 4: #только аргумент\n",
    "        return \"weak [1]\"\n",
    "    elif 5 <= speed <= 10:\n",
    "        return \"moderate [2]\"\n",
    "    elif 11 <= speed <= 18:\n",
    "        return\"strong [3]\"\n",
    "    elif speed >= 19:\n",
    "        return \"hurricane [4]\"\n",
    "print(get_wind_class0(13)) #мы просим программу напечатать то, что в скобках\n",
    "\n",
    "\n",
    "def get_wind_class1(speed):  # Объявление функции\n",
    "    klasses = [\n",
    "        [\"weak [1]\", [1, 2, 3, 4]], \n",
    "        [\"moderate [2]\", [5, 6, 7, 8, 9, 10]],\n",
    "        [\"strong [3]\", [11, 12, 13, 14, 15, 16, 17, 18]],\n",
    "        [\"hurricane [4]\", [19]]\n",
    "    ]\n",
    "    for klass in klasses:\n",
    "        if speed in klass[1]:\n",
    "            return klass[0]\n",
    "        else:\n",
    "            if speed >= klasses[3][1][0]:\n",
    "                return klasses[3][0]\n",
    "           \n",
    "\n",
    "print(get_wind_class1(2))  # Печатаем результат выполнения"
   ]
  },
  {
   "cell_type": "code",
   "execution_count": 190,
   "id": "25827e1f-b477-4417-ab28-b849bca40b94",
   "metadata": {},
   "outputs": [
    {
     "name": "stdout",
     "output_type": "stream",
     "text": [
      "iseedeadpeople user password\n",
      "Результат: True\n"
     ]
    }
   ],
   "source": [
    "# Допишите функцию check_user так, чтобы она по логину пользователя\n",
    "# проверяла, существует он или нет,\n",
    "# после чего с помощью вложенного условия проверяла\n",
    "# правильность пароля этого пользователя.\n",
    "# Функция должна возвращать только True или False.\n",
    "# Чтобы вернуть True, напишите \"return True\";\n",
    "# чтобы вернуть False, напишите \"return False\".\n",
    "\n",
    "user_database = {\n",
    "    'user': 'password',\n",
    "    'iseedeadpeople': 'greedisgood',\n",
    "    'hesoyam': 'tgm'\n",
    "}\n",
    "\n",
    "def check_user(username, password):\n",
    "    for users in user_database.keys():\n",
    "        if username in user_database.keys():\n",
    "            return password == user_database.get(username) \n",
    "        else:\n",
    "            return False\n",
    "\n",
    "print(\"Результат:\", check_user(\"iseedeadpeople\", \"greedisgood\"))"
   ]
  },
  {
   "cell_type": "code",
   "execution_count": 191,
   "id": "66d95ccb-191b-4b62-a681-375e88d4ce31",
   "metadata": {},
   "outputs": [
    {
     "name": "stdout",
     "output_type": "stream",
     "text": [
      "42\n"
     ]
    }
   ],
   "source": [
    "a = 42\n",
    "b = 41\n",
    "\n",
    "if a > b:\n",
    "    result = a\n",
    "else:\n",
    "    result = b\n",
    "print(result)"
   ]
  },
  {
   "cell_type": "code",
   "execution_count": 193,
   "id": "b17a40dd-fcb8-4f34-9fc3-46901e7f3a18",
   "metadata": {},
   "outputs": [
    {
     "name": "stdout",
     "output_type": "stream",
     "text": [
      "42\n"
     ]
    }
   ],
   "source": [
    "result = a if a > b else b\n",
    "print(result)"
   ]
  },
  {
   "cell_type": "code",
   "execution_count": 218,
   "id": "8dce55bc-e76d-4d7a-9ef0-dba18b77cbdb",
   "metadata": {},
   "outputs": [
    {
     "name": "stdout",
     "output_type": "stream",
     "text": [
      "True\n",
      "Есть число меньше 45 и только одно\n"
     ]
    }
   ],
   "source": [
    "A = 13\n",
    "B = 185\n",
    "C = 415\n",
    "\n",
    "\n",
    "print((A < 45 and B >= 45 and C >= 45) or (B < 45 and A >= 45 and C >= 45) or (C < 45 and B >= 45 and A >= 45) )\n",
    "\n",
    "\n",
    "if ((A < 45) and (B >= 45) and (C >=45)) or \\\n",
    "    ((A >= 45) and (B < 45) and (C >=45)) or \\\n",
    "    ((A >= 45) and (B >= 45) and (C < 45)):\n",
    "    print('Есть число меньше 45 и только одно')\n",
    "else:\n",
    "    print('Числа меньше 45 нет или их несколько')\n"
   ]
  },
  {
   "cell_type": "code",
   "execution_count": 217,
   "id": "3599ad04-025c-4d21-b62e-68c6538077f1",
   "metadata": {},
   "outputs": [
    {
     "name": "stdout",
     "output_type": "stream",
     "text": [
      "А не принадлежит интервалу от -10 до -1 или интервалу от 2 до 15: True\n"
     ]
    }
   ],
   "source": [
    "A = 22\n",
    "\n",
    "print(\"А не принадлежит интервалу от -10 до -1 или интервалу от 2 до 15:\", \n",
    "     not (-10 <= A <= -1 or 2 <= A <= 15))"
   ]
  },
  {
   "cell_type": "code",
   "execution_count": null,
   "id": "83d0e9b8-6ba5-45cf-b8c9-487cdefa6147",
   "metadata": {},
   "outputs": [],
   "source": [
    "A = int(input('Введите число\\n'))\n",
    "\n",
    "if not (-10 <= A <= -1 or 2 <= A <= 15):\n",
    "    print(\"Число не принадлежит интервалу\")\n",
    "else:\n",
    "    print(\"Число принадлежит интервалу\")\n"
   ]
  },
  {
   "cell_type": "code",
   "execution_count": 235,
   "id": "f23371db-aec3-43f6-8488-6b0af99abaa1",
   "metadata": {},
   "outputs": [
    {
     "name": "stdout",
     "output_type": "stream",
     "text": [
      "Число НЕ содержит цифру'5'\n",
      "4 6\n"
     ]
    }
   ],
   "source": [
    "A = 46\n",
    "\n",
    "if A //10 == 5 or A % 10 == 5:\n",
    "    print(\"Число содержит цифру'5'\")\n",
    "else:\n",
    "    print(\"Число НЕ содержит цифру'5'\")\n",
    "        \n",
    "x = A // 10\n",
    "y = A % 10\n",
    "print(x, y)"
   ]
  },
  {
   "cell_type": "code",
   "execution_count": 237,
   "id": "d8982a4d-1f04-4707-afc4-ffb7c5822f38",
   "metadata": {},
   "outputs": [
    {
     "name": "stdout",
     "output_type": "stream",
     "text": [
      "True\n",
      "[-5, 2, 4, 8, 12, -7, 5]\n",
      "{2, 4, 5, 8, 12, -7, -5}\n"
     ]
    }
   ],
   "source": [
    "#Проверьте, все ли элементы в списке являются уникальными.\n",
    "\n",
    "list_ = [-5, 2, 4, 8, 12, -7, 5]\n",
    "\n",
    "print(len(list_) == len(set(list_)))\n",
    "print(list_)\n",
    "print(set(list_))\n"
   ]
  },
  {
   "cell_type": "code",
   "execution_count": 239,
   "id": "ca6417e1-ca19-45ef-a510-11860356847f",
   "metadata": {},
   "outputs": [
    {
     "name": "stdout",
     "output_type": "stream",
     "text": [
      "True\n"
     ]
    }
   ],
   "source": [
    "num = 12344321\n",
    "\n",
    "print(str(num) == str(num)[::-1])\n"
   ]
  },
  {
   "cell_type": "code",
   "execution_count": null,
   "id": "982ccf6f-6a81-4aae-b156-bfa23d0c746f",
   "metadata": {},
   "outputs": [],
   "source": []
  }
 ],
 "metadata": {
  "kernelspec": {
   "display_name": "Python 3 (ipykernel)",
   "language": "python",
   "name": "python3"
  },
  "language_info": {
   "codemirror_mode": {
    "name": "ipython",
    "version": 3
   },
   "file_extension": ".py",
   "mimetype": "text/x-python",
   "name": "python",
   "nbconvert_exporter": "python",
   "pygments_lexer": "ipython3",
   "version": "3.10.1"
  }
 },
 "nbformat": 4,
 "nbformat_minor": 5
}
